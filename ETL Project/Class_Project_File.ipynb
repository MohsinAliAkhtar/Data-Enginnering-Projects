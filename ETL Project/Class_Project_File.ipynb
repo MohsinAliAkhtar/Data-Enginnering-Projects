{
 "cells": [
  {
   "cell_type": "markdown",
   "id": "80d72d5a",
   "metadata": {},
   "source": [
    "# ETL PROJECT"
   ]
  },
  {
   "cell_type": "markdown",
   "id": "79e0e438",
   "metadata": {},
   "source": [
    "#### A basice Extract, Transform and Load (ETL) pipeline using web scrapping, pandas and sql\n"
   ]
  },
  {
   "cell_type": "code",
   "execution_count": 1,
   "id": "b0acbf7c",
   "metadata": {},
   "outputs": [],
   "source": [
    "from io import StringIO #input output library  -> used for extracting\n",
    "import requests #Web scrapping used for communicating with web pages (get hit and upload operations) -> used for extract\n",
    "from bs4 import BeautifulSoup #used for parsing HTML code of webpage\n",
    "import pandas as pd # used for transformation\n",
    "import sqlite3 #loading the data in small database (lite version of SQL)\n",
    "from datetime import datetime\n",
    "from icecream import ic #debugging visualization"
   ]
  },
  {
   "cell_type": "markdown",
   "id": "35d055da",
   "metadata": {},
   "source": [
    "#### Step 0: Maintaining a Log File\n",
    "This step is done to record the logs while performing ETL and it is not neccessary in an ETL Pipeline"
   ]
  },
  {
   "cell_type": "code",
   "execution_count": 2,
   "id": "1790fee7",
   "metadata": {},
   "outputs": [],
   "source": [
    "#Step 0 : To observe the logs to know when error occur during the program failure at what step(i.e extraction etc)\n",
    "\n",
    "def log_progress(message):\n",
    "    with open(\"./Logs/code_log.txt\", 'a') as file:\n",
    "        file.write(f'{datetime.now()}: {message}\\n')"
   ]
  },
  {
   "cell_type": "markdown",
   "id": "2e6a664e",
   "metadata": {},
   "source": [
    "#### Step 1: Extract"
   ]
  },
  {
   "cell_type": "code",
   "execution_count": 3,
   "id": "e2e891d1",
   "metadata": {},
   "outputs": [],
   "source": [
    "#Step 1 : (Extraction)\n",
    "\n",
    "def extraction(url1, table_attribs):\n",
    "    soup = requests.get(url1).text\n",
    "    web = BeautifulSoup(soup, 'html.parser')\n",
    "    table = web.find('span',  string=table_attribs).find_next('table')\n",
    "    df = pd.read_html(StringIO(str(table)))[0]\n",
    "    \n",
    "    log_progress('Data extraction complete. Initiating Transformation process')\n",
    "\n",
    "    return df"
   ]
  },
  {
   "cell_type": "markdown",
   "id": "857ce87f",
   "metadata": {},
   "source": [
    "#### Step 2: Transform"
   ]
  },
  {
   "cell_type": "code",
   "execution_count": 4,
   "id": "2805a34e",
   "metadata": {},
   "outputs": [],
   "source": [
    "#Step 2 : (Transform)\n",
    "\n",
    "def transformation(df, csv_path):\n",
    "    exchange_rate = pd.read_csv(csv_path, index_col = 0).to_dict()['Rate']\n",
    "    \n",
    "    df['MC_GBP_Billion'] = round(df['Market cap (US$ billion)']* exchange_rate['GBP'], 2) \n",
    "    df['MC_EUR_Billion'] = round(df['Market cap (US$ billion)']* exchange_rate['EUR'], 2)\n",
    "    df['MC_INR_Billion'] = round(df['Market cap (US$ billion)']* exchange_rate['INR'], 2)\n",
    "    \n",
    "    ic(df['MC_EUR_Billion'][4])\n",
    "    \n",
    "    log_progress('Data transformation complete. Initiating Loading process')\n",
    "\n",
    "    return df"
   ]
  },
  {
   "cell_type": "markdown",
   "id": "fe4ec09e",
   "metadata": {},
   "source": [
    "#### Step 3: Load"
   ]
  },
  {
   "cell_type": "markdown",
   "id": "77143cb1",
   "metadata": {},
   "source": [
    "Loading data to a CSV"
   ]
  },
  {
   "cell_type": "code",
   "execution_count": 5,
   "id": "36df22cb",
   "metadata": {},
   "outputs": [],
   "source": [
    "#Step 3 : (Load)\n",
    "#csv\n",
    "\n",
    "def load_to_csv(df, out_path):\n",
    "    df.to_csv(out_path)\n",
    "    \n",
    "    log_progress('Data saved to CSV file')"
   ]
  },
  {
   "cell_type": "markdown",
   "id": "1f77f535",
   "metadata": {},
   "source": [
    "Loading data to SQL"
   ]
  },
  {
   "cell_type": "code",
   "execution_count": 6,
   "id": "84e577f0",
   "metadata": {},
   "outputs": [],
   "source": [
    "#step:3:\n",
    "#SQLite\n",
    "\n",
    "def load_to_db(df, sql_conn, tn): #dataframe , connection, table name\n",
    "    df.to_sql(tn, sql_conn, if_exists = 'replace', index = False)\n",
    "    \n",
    "    log_progress('Data loaded to Database as a table, Executing queries')\n",
    "\n",
    "def run_query(query_statement, sql_connection):\n",
    "    cursor = sql_connection.cursor()\n",
    "    cursor.execute(query_statement)\n",
    "    result = cursor.fetchall()\n",
    "\n",
    "    log_progress('Process Complete')\n",
    "\n",
    "    return result"
   ]
  },
  {
   "cell_type": "markdown",
   "id": "1145d825",
   "metadata": {},
   "source": [
    "Executing Pipeline\n"
   ]
  },
  {
   "cell_type": "code",
   "execution_count": 7,
   "id": "4a9ec4ab",
   "metadata": {},
   "outputs": [
    {
     "name": "stderr",
     "output_type": "stream",
     "text": [
      "ic| extraction(url, 'By market capitalization'):    Rank                                Bank name  Market cap (US$ billion)\n",
      "                                                 0     1                           JPMorgan Chase                    432.92\n",
      "                                                 1     2                          Bank of America                    231.52\n",
      "                                                 2     3  Industrial and Commercial Bank of China                    194.56\n",
      "                                                 3     4               Agricultural Bank of China                    160.68\n",
      "                                                 4     5                                HDFC Bank                    157.91\n",
      "                                                 5     6                              Wells Fargo                    155.87\n",
      "                                                 6     7                        HSBC Holdings PLC                    148.90\n",
      "                                                 7     8                           Morgan Stanley                    140.83\n",
      "                                                 8     9                  China Construction Bank                    139.82\n",
      "                                                 9    10                            Bank of China                    136.81\n",
      "ic| df['MC_EUR_Billion'][4]: 146.86\n",
      "ic| run_query('SELECT * FROM Largest_banks', conn): [(1, 'JPMorgan Chase', 432.92, 346.34, 402.62, 35910.71),\n",
      "                                                     (2, 'Bank of America', 231.52, 185.22, 215.31, 19204.58),\n",
      "                                                     (3,\n",
      "                                                      'Industrial and Commercial Bank of China',\n",
      "                                                      194.56,\n",
      "                                                      155.65,\n",
      "                                                      180.94,\n",
      "                                                      16138.75),\n",
      "                                                     (4, 'Agricultural Bank of China', 160.68, 128.54, 149.43, 13328.41),\n",
      "                                                     (5, 'HDFC Bank', 157.91, 126.33, 146.86, 13098.63),\n",
      "                                                     (6, 'Wells Fargo', 155.87, 124.7, 144.96, 12929.42),\n",
      "                                                     (7, 'HSBC Holdings PLC', 148.9, 119.12, 138.48, 12351.26),\n",
      "                                                     (8, 'Morgan Stanley', 140.83, 112.66, 130.97, 11681.85),\n",
      "                                                     (9, 'China Construction Bank', 139.82, 111.86, 130.03, 11598.07),\n",
      "                                                     (10, 'Bank of China', 136.81, 109.45, 127.23, 11348.39)]\n",
      "ic| run_query('SELECT AVG(MC_GBP_Billion) FROM Largest_banks', conn): [(151.98700000000002,)]\n",
      "ic| run_query('SELECT \"Bank name\" FROM Largest_banks LIMIT 5', conn): [('JPMorgan Chase',),\n",
      "                                                                       ('Bank of America',),\n",
      "                                                                       ('Industrial and Commercial Bank of China',),\n",
      "                                                                       ('Agricultural Bank of China',),\n",
      "                                                                       ('HDFC Bank',)]\n"
     ]
    }
   ],
   "source": [
    "if __name__ == '__main__':\n",
    "    url = 'https://web.archive.org/web/20230908091635/https://en.wikipedia.org/wiki/List_of_largest_banks'\n",
    "    output_csv_path = './Output/Largest_banks_data.csv'\n",
    "    database_name = './Output/Banks.db'\n",
    "    table_name = 'Largest_banks'\n",
    "    #\n",
    "    log_progress('Preliminaries complete. Initiating ETL process')\n",
    "    #\n",
    "    df= ic(extraction(url, 'By market capitalization'))\n",
    "    log_progress('Extraction completed')\n",
    "    \n",
    "    df = transformation(df , './Input/exchange_rate.csv')\n",
    "    log_progress('Extraction Completed')\n",
    "    \n",
    "    load_to_csv(df, output_csv_path)\n",
    "    log_progress('DataFrame has been uploaded into the csv file on our system')\n",
    "    \n",
    "    with sqlite3.connect(database_name) as conn:\n",
    "        load_to_db(df, conn, table_name)\n",
    "        log_progress(\"DataFrame has been uploaded into the SQLite Database succesfully!\")\n",
    "\n",
    "        ic(run_query('SELECT * FROM Largest_banks', conn))\n",
    "\n",
    "        ic(run_query('SELECT AVG(MC_GBP_Billion) FROM Largest_banks', conn))\n",
    "\n",
    "        ic(run_query('SELECT \"Bank name\" FROM Largest_banks LIMIT 5', conn))"
   ]
  }
 ],
 "metadata": {
  "kernelspec": {
   "display_name": "Python 3 (ipykernel)",
   "language": "python",
   "name": "python3"
  },
  "language_info": {
   "codemirror_mode": {
    "name": "ipython",
    "version": 3
   },
   "file_extension": ".py",
   "mimetype": "text/x-python",
   "name": "python",
   "nbconvert_exporter": "python",
   "pygments_lexer": "ipython3",
   "version": "3.12.0"
  }
 },
 "nbformat": 4,
 "nbformat_minor": 5
}
